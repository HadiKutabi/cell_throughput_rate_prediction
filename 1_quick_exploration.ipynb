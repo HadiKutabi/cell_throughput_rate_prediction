{
 "cells": [
  {
   "cell_type": "code",
   "execution_count": null,
   "metadata": {},
   "outputs": [],
   "source": [
    "import pandas as pd\n",
    "import numpy as np\n",
    "import seaborn as sns\n",
    "import matplotlib.pyplot as plt\n",
    "\n",
    "pd.set_option('display.max_columns', 500)\n",
    "pd.set_option('display.max_rows', 500)"
   ]
  },
  {
   "cell_type": "code",
   "execution_count": null,
   "metadata": {},
   "outputs": [],
   "source": [
    "data_down = pd.read_csv('Data_down.csv', sep='\\s+')  #your oath here \n",
    "data_up = pd.read_csv('Data_up.csv', sep='\\s+')    #your oath here "
   ]
  },
  {
   "cell_type": "code",
   "execution_count": null,
   "metadata": {},
   "outputs": [],
   "source": [
    "data_down.head()"
   ]
  },
  {
   "cell_type": "code",
   "execution_count": null,
   "metadata": {},
   "outputs": [],
   "source": [
    "data_up.head()"
   ]
  },
  {
   "cell_type": "code",
   "execution_count": null,
   "metadata": {},
   "outputs": [],
   "source": [
    "data_up.columns"
   ]
  },
  {
   "cell_type": "code",
   "execution_count": null,
   "metadata": {},
   "outputs": [],
   "source": [
    "data_down.columns"
   ]
  },
  {
   "cell_type": "code",
   "execution_count": null,
   "metadata": {},
   "outputs": [],
   "source": [
    "data_down.dtypes"
   ]
  },
  {
   "cell_type": "code",
   "execution_count": null,
   "metadata": {},
   "outputs": [],
   "source": [
    "data_up.dtypes"
   ]
  },
  {
   "cell_type": "code",
   "execution_count": null,
   "metadata": {},
   "outputs": [],
   "source": [
    "data_down.describe()"
   ]
  },
  {
   "cell_type": "code",
   "execution_count": null,
   "metadata": {},
   "outputs": [],
   "source": [
    "data_down.isnull().values.any()"
   ]
  },
  {
   "cell_type": "code",
   "execution_count": null,
   "metadata": {},
   "outputs": [],
   "source": [
    "data_up.isnull().values.any()"
   ]
  },
  {
   "cell_type": "code",
   "execution_count": null,
   "metadata": {},
   "outputs": [],
   "source": [
    "locations_list = list(data_down['location'].unique())\n",
    "def group_count(df, locations, groupby_1, groupby_2,groupby_3 ):\n",
    "    \n",
    "    describtion = pd.DataFrame(columns =['location', 'measurement_count', 'pci_count', 'ci_count'])\n",
    "    for loc in locations:\n",
    "        location = df[df['location'] == loc]\n",
    "        \n",
    "        describtion= describtion.append({\n",
    "            'location': loc,\n",
    "            'measurement_count': location.groupby(groupby_1).count().shape[0],\n",
    "            'pci_count': location.groupby(groupby_2).count().shape[0],\n",
    "            'ci_count': location.groupby(groupby_3).count().shape[0]\n",
    "        }, \n",
    "            ignore_index=True)\n",
    "        \n",
    "    return describtion"
   ]
  },
  {
   "cell_type": "code",
   "execution_count": null,
   "metadata": {},
   "outputs": [],
   "source": [
    "down_unique_describtion = group_count(data_down,locations_list, 'measurement', 'pci', 'ci')\n",
    "down_unique_describtion "
   ]
  },
  {
   "cell_type": "code",
   "execution_count": null,
   "metadata": {},
   "outputs": [],
   "source": [
    "upload_unique_describtion = group_count(data_up,locations_list, 'measurement', 'pci', 'ci')\n",
    "upload_unique_describtion"
   ]
  },
  {
   "cell_type": "markdown",
   "metadata": {},
   "source": [
    "#  visualizations"
   ]
  },
  {
   "cell_type": "code",
   "execution_count": null,
   "metadata": {},
   "outputs": [],
   "source": [
    "def plot_2_hist(df1, df2, x1, x2, title1 =\"\", title2=\"\"):\n",
    "\n",
    "    _, axes = plt.subplots(1, 2, figsize=(16, 8))\n",
    "\n",
    "    ax1 = sns.histplot(data=df1, x=x1,\n",
    "                    kde=True, ax=axes[0])\n",
    "    ax1.set_title(title1, loc='left')\n",
    "\n",
    "    ax2 = sns.histplot(data=df2, x=x2,\n",
    "                    kde=True, ax=axes[1])\n",
    "    ax2.set_title(title2, loc='left')\n",
    "\n",
    "\n",
    "    plt.show()\n",
    "    \n",
    "def plot_2_boxplot(x1, x2, title1 =\"\", title2=\"\"):\n",
    "\n",
    "    _, axes = plt.subplots(1, 2, figsize=(16, 8))\n",
    "\n",
    "    ax1 = sns.boxplot(x=x1, ax=axes[0])\n",
    "    ax1.set_title(title1, loc='left')\n",
    "\n",
    "    ax2 = sns.boxplot(x=x2, ax=axes[1])\n",
    "    ax2.set_title(title2, loc='left')\n",
    "\n",
    "\n",
    "    plt.show()"
   ]
  },
  {
   "cell_type": "code",
   "execution_count": null,
   "metadata": {},
   "outputs": [],
   "source": [
    "plot_2_hist(data_down, data_up,data_down[\"throughput\"], data_up[\"throughput\"],\n",
    "            title1 = \"Download Throughput\", title2 = \"Upload Throughput\")"
   ]
  },
  {
   "cell_type": "code",
   "execution_count": null,
   "metadata": {},
   "outputs": [],
   "source": [
    "plot_2_hist(data_down, data_up,data_down[\"speed\"], data_up[\"speed\"],\n",
    "            title1 = \"Spead Download-Data\", title2 = \"Spead Upload-Data\")"
   ]
  },
  {
   "cell_type": "code",
   "execution_count": null,
   "metadata": {},
   "outputs": [],
   "source": [
    "plot_2_hist(data_down, data_up,data_down[\"acc\"], data_up[\"acc\"],\n",
    "            title1 = \"Acceleration Download-Data\", title2 = \"Acceleration Upload-Data\")"
   ]
  },
  {
   "cell_type": "code",
   "execution_count": null,
   "metadata": {},
   "outputs": [],
   "source": [
    "plot_2_boxplot(data_down[\"throughput\"], data_up[\"throughput\"],\n",
    "              title1 = \"Download Throughout\", title2=\"Upload throughput\")"
   ]
  },
  {
   "cell_type": "code",
   "execution_count": null,
   "metadata": {},
   "outputs": [],
   "source": [
    "plot_2_boxplot(data_down[\"speed\"], data_up[\"speed\"],\n",
    "              title1 = \"Spead Download-Data\", title2=\"Spead Upload-Data\")"
   ]
  },
  {
   "cell_type": "code",
   "execution_count": null,
   "metadata": {},
   "outputs": [],
   "source": []
  }
 ],
 "metadata": {
  "kernelspec": {
   "display_name": "Python 3",
   "language": "python",
   "name": "python3"
  },
  "language_info": {
   "codemirror_mode": {
    "name": "ipython",
    "version": 3
   },
   "file_extension": ".py",
   "mimetype": "text/x-python",
   "name": "python",
   "nbconvert_exporter": "python",
   "pygments_lexer": "ipython3",
   "version": "3.7.9"
  }
 },
 "nbformat": 4,
 "nbformat_minor": 4
}
