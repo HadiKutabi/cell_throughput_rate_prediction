{
 "cells": [
  {
   "cell_type": "code",
   "execution_count": null,
   "metadata": {},
   "outputs": [],
   "source": [
    "#!pip install xgboost"
   ]
  },
  {
   "cell_type": "code",
   "execution_count": null,
   "metadata": {},
   "outputs": [],
   "source": [
    "import pandas as pd\n",
    "import numpy as np\n",
    "\n",
    "from my_defs import*\n",
    "from sklearn.model_selection import train_test_split\n",
    "\n",
    "seed = 42\n",
    "pd.set_option('display.max_columns', 500)"
   ]
  },
  {
   "cell_type": "code",
   "execution_count": null,
   "metadata": {},
   "outputs": [],
   "source": [
    "data_down = pd.read_csv('data_down_full.csv')\n",
    "data_up = pd.read_csv('data_up_full.csv')"
   ]
  },
  {
   "cell_type": "code",
   "execution_count": null,
   "metadata": {},
   "outputs": [],
   "source": [
    "drop_cols_u  = [ 'connected', 'date', 'year', 'rawTimesamp',\n",
    "             'month', 'id', 'throughput_var', 'ci',\n",
    "           'tavg', 'tmax', 'tmin', 'wdir' ,'pres', 'tsun','dir',\n",
    "                'campus', 'highway', 'urban', 'suburban',\n",
    "           'Barop', 'Brünninghausen', 'Eichlinghofen', 'Groß-Barop', 'Hombruch', 'Innenstadt Nord',\n",
    "           'KGV Ruhrwaldstraße', 'Kirchhörde', 'Klinikviertel', 'Kruckel', 'Löttringhausen',\n",
    "           'Lücklemberg', 'Mitte' , 'Persebeck', 'Renninghausen', 'Salingen', 'Syburg', 'Wellinghofen',\n",
    "            'Wichlinghofen']\n",
    "\n",
    "drop_cols_d  = ['connected', 'date', 'year','rawTimesamp',\n",
    "             'month', 'id','throughput_var', 'ci',\n",
    "           'tavg', 'tmax', 'tmin', 'wdir' ,'pres', 'tsun','campus', 'highway', 'urban', 'suburban', 'dir',\n",
    "           'Barop', 'Brünninghausen', 'Eichlinghofen', 'Groß-Barop', 'Hombruch', \n",
    "           'KGV Ruhrwaldstraße', 'Kirchhörde', 'Klinikviertel', 'Kruckel', 'Löttringhausen',\n",
    "           'Lücklemberg', 'Mitte' , 'Persebeck', 'Renninghausen', 'Salingen', 'Syburg', 'Wellinghofen',\n",
    "            'Wichlinghofen']\n",
    "            \n",
    "data_down = data_down.drop(drop_cols_d, axis = 1)\n",
    "data_up = data_up.drop(drop_cols_u, axis = 1)\n",
    "\n"
   ]
  },
  {
   "cell_type": "code",
   "execution_count": null,
   "metadata": {},
   "outputs": [],
   "source": [
    "x_train_d,x_test_d,y_train_d,y_test_d=train_test_split(data_down.drop(['throughput'], axis = 1)\n",
    "                                               ,data_down[\"throughput\"], test_size=0.2,\n",
    "                                                      random_state = seed,\n",
    "                                                      shuffle = False)\n",
    "\n",
    "x_train_u,x_test_u,y_train_u,y_test_u=train_test_split(data_up.drop(['throughput'], axis = 1)\n",
    "                                               ,data_up[\"throughput\"], test_size=0.2,\n",
    "                                                      random_state= seed,\n",
    "                                                      shuffle = False)"
   ]
  },
  {
   "cell_type": "markdown",
   "metadata": {},
   "source": [
    "# XGBoost"
   ]
  },
  {
   "cell_type": "code",
   "execution_count": null,
   "metadata": {},
   "outputs": [],
   "source": [
    "regressor_rmse(xgb.XGBRegressor(random_state = seed),x_train_d,   # function in my_defs\n",
    "               x_test_d, y_train_d, y_test_d, model_name = \"XGBoost Download\")"
   ]
  },
  {
   "cell_type": "code",
   "execution_count": null,
   "metadata": {},
   "outputs": [],
   "source": [
    "regressor_rmse(xgb.XGBRegressor(random_state = seed),x_train_u,   # function in my_defs\n",
    "               x_test_u, y_train_u, y_test_u, model_name = \"XGBoost Upload\")"
   ]
  },
  {
   "cell_type": "markdown",
   "metadata": {},
   "source": [
    "## Random Forest"
   ]
  },
  {
   "cell_type": "code",
   "execution_count": null,
   "metadata": {},
   "outputs": [],
   "source": [
    "regressor_rmse(RandomForestRegressor(random_state = seed) ,x_train_d,  \n",
    "               x_test_d, y_train_d, y_test_d, model_name = \"Random Forrest Download\")"
   ]
  },
  {
   "cell_type": "code",
   "execution_count": null,
   "metadata": {},
   "outputs": [],
   "source": [
    "regressor_rmse(RandomForestRegressor(random_state = seed) ,x_train_u, \n",
    "               x_test_u, y_train_u, y_test_u, model_name = \"Random Forrest Upload\")"
   ]
  },
  {
   "cell_type": "markdown",
   "metadata": {},
   "source": [
    "# Decision Tree"
   ]
  },
  {
   "cell_type": "code",
   "execution_count": null,
   "metadata": {},
   "outputs": [],
   "source": [
    "regressor_rmse(DecisionTreeRegressor(random_state = seed) ,x_train_d, \n",
    "               x_test_d, y_train_d, y_test_d, model_name = \"Decision Tree Download\")"
   ]
  },
  {
   "cell_type": "code",
   "execution_count": null,
   "metadata": {},
   "outputs": [],
   "source": [
    "regressor_rmse(DecisionTreeRegressor(random_state = seed) ,x_train_u, \n",
    "               x_test_u, y_train_u, y_test_u, model_name = \"Decision Tree Upload\")"
   ]
  },
  {
   "cell_type": "markdown",
   "metadata": {},
   "source": [
    "\n",
    "# Lasso Reg "
   ]
  },
  {
   "cell_type": "code",
   "execution_count": null,
   "metadata": {},
   "outputs": [],
   "source": [
    "regressor_rmse(Lasso(random_state = seed) ,x_train_d, \n",
    "               x_test_d, y_train_d, y_test_d, model_name = \"Lasso Regression Download\")"
   ]
  },
  {
   "cell_type": "code",
   "execution_count": null,
   "metadata": {},
   "outputs": [],
   "source": [
    "regressor_rmse(DecisionTreeRegressor(random_state = seed) ,x_train_u, \n",
    "               x_test_u, y_train_u, y_test_u, model_name = \"Decision Tree Upload\")"
   ]
  },
  {
   "cell_type": "markdown",
   "metadata": {},
   "source": [
    "# SVR\n"
   ]
  },
  {
   "cell_type": "code",
   "execution_count": null,
   "metadata": {},
   "outputs": [],
   "source": [
    "regressor_rmse(SVR() ,x_train_d,  #SVR has no random_state parameter\n",
    "               x_test_d, y_train_d, y_test_d, model_name = \"Support Vector Regression Download\")"
   ]
  },
  {
   "cell_type": "code",
   "execution_count": null,
   "metadata": {},
   "outputs": [],
   "source": [
    "regressor_rmse(SVR() ,x_train_u, #SVR has no random_state parameter\n",
    "               x_test_u, y_train_u, y_test_u, model_name = \"Support Vector Regression Upload\")"
   ]
  },
  {
   "cell_type": "markdown",
   "metadata": {},
   "source": [
    "## Linear Reg"
   ]
  },
  {
   "cell_type": "code",
   "execution_count": null,
   "metadata": {},
   "outputs": [],
   "source": [
    "# Download Model\n",
    "regressor_rmse(LinearRegression() ,x_train_d, #SVR has no random_state parameter\n",
    "               x_test_d, y_train_d, y_test_d, model_name = \"Linear Regression Download\")"
   ]
  },
  {
   "cell_type": "code",
   "execution_count": null,
   "metadata": {},
   "outputs": [],
   "source": [
    "# Download Model\n",
    "regressor_rmse(LinearRegression() ,x_train_u, \n",
    "               x_test_u, y_train_u, y_test_u, model_name = \"Linear Regression Upload\")"
   ]
  },
  {
   "cell_type": "code",
   "execution_count": null,
   "metadata": {},
   "outputs": [],
   "source": []
  }
 ],
 "metadata": {
  "kernelspec": {
   "display_name": "Python 3",
   "language": "python",
   "name": "python3"
  },
  "language_info": {
   "codemirror_mode": {
    "name": "ipython",
    "version": 3
   },
   "file_extension": ".py",
   "mimetype": "text/x-python",
   "name": "python",
   "nbconvert_exporter": "python",
   "pygments_lexer": "ipython3",
   "version": "3.7.9"
  }
 },
 "nbformat": 4,
 "nbformat_minor": 4
}
