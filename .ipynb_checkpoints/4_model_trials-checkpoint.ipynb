{
 "cells": [
  {
   "cell_type": "code",
   "execution_count": 1,
   "metadata": {},
   "outputs": [],
   "source": [
    "#!pip install xgboost"
   ]
  },
  {
   "cell_type": "code",
   "execution_count": 2,
   "metadata": {},
   "outputs": [],
   "source": [
    "import pandas as pd\n",
    "import numpy as np\n",
    "\n",
    "from my_defs import*\n",
    "from sklearn.model_selection import train_test_split\n",
    "\n",
    "seed = 42\n",
    "pd.set_option('display.max_columns', 500)"
   ]
  },
  {
   "cell_type": "code",
   "execution_count": 3,
   "metadata": {},
   "outputs": [],
   "source": [
    "data_down = pd.read_csv('data_down_full.csv')\n",
    "data_up = pd.read_csv('data_up_full.csv')"
   ]
  },
  {
   "cell_type": "code",
   "execution_count": 4,
   "metadata": {},
   "outputs": [],
   "source": [
    "drop_cols_u  = [ 'connected', 'date', 'year', 'rawTimesamp',\n",
    "             'month', 'id', 'throughput_var', 'ci',\n",
    "           'tavg', 'tmax', 'tmin', 'wdir' ,'pres', 'tsun','dir',\n",
    "                'campus', 'highway', 'urban', 'suburban',\n",
    "           'Barop', 'Brünninghausen', 'Eichlinghofen', 'Groß-Barop', 'Hombruch', 'Innenstadt Nord',\n",
    "           'KGV Ruhrwaldstraße', 'Kirchhörde', 'Klinikviertel', 'Kruckel', 'Löttringhausen',\n",
    "           'Lücklemberg', 'Mitte' , 'Persebeck', 'Renninghausen', 'Salingen', 'Syburg', 'Wellinghofen',\n",
    "            'Wichlinghofen']\n",
    "\n",
    "drop_cols_d  = ['connected', 'date', 'year','rawTimesamp',\n",
    "             'month', 'id','throughput_var', 'ci',\n",
    "           'tavg', 'tmax', 'tmin', 'wdir' ,'pres', 'tsun','campus', 'highway', 'urban', 'suburban', 'dir',\n",
    "           'Barop', 'Brünninghausen', 'Eichlinghofen', 'Groß-Barop', 'Hombruch', \n",
    "           'KGV Ruhrwaldstraße', 'Kirchhörde', 'Klinikviertel', 'Kruckel', 'Löttringhausen',\n",
    "           'Lücklemberg', 'Mitte' , 'Persebeck', 'Renninghausen', 'Salingen', 'Syburg', 'Wellinghofen',\n",
    "            'Wichlinghofen']\n",
    "            \n",
    "data_down = data_down.drop(drop_cols_d, axis = 1)\n",
    "data_up = data_up.drop(drop_cols_u, axis = 1)\n",
    "\n"
   ]
  },
  {
   "cell_type": "code",
   "execution_count": 5,
   "metadata": {},
   "outputs": [],
   "source": [
    "x_train_d,x_test_d,y_train_d,y_test_d=train_test_split(data_down.drop(['throughput'], axis = 1)\n",
    "                                               ,data_down[\"throughput\"], test_size=0.2,\n",
    "                                                      random_state = seed,\n",
    "                                                      shuffle = False)\n",
    "\n",
    "x_train_u,x_test_u,y_train_u,y_test_u=train_test_split(data_up.drop(['throughput'], axis = 1)\n",
    "                                               ,data_up[\"throughput\"], test_size=0.2,\n",
    "                                                      random_state= seed,\n",
    "                                                      shuffle = False)"
   ]
  },
  {
   "cell_type": "markdown",
   "metadata": {},
   "source": [
    "# XGBoost"
   ]
  },
  {
   "cell_type": "code",
   "execution_count": 6,
   "metadata": {},
   "outputs": [
    {
     "name": "stdout",
     "output_type": "stream",
     "text": [
      "Model: XGBoost Download \n",
      " RMSE: 4.29\n"
     ]
    }
   ],
   "source": [
    "regressor_rmse(xgb.XGBRegressor(random_state = seed),x_train_d,   # function in my_defs\n",
    "               x_test_d, y_train_d, y_test_d, model_name = \"XGBoost Download\")"
   ]
  },
  {
   "cell_type": "code",
   "execution_count": 7,
   "metadata": {},
   "outputs": [
    {
     "name": "stdout",
     "output_type": "stream",
     "text": [
      "Model: XGBoost Upload \n",
      " RMSE: 4.25\n"
     ]
    }
   ],
   "source": [
    "regressor_rmse(xgb.XGBRegressor(random_state = seed),x_train_u,   # function in my_defs\n",
    "               x_test_u, y_train_u, y_test_u, model_name = \"XGBoost Upload\")"
   ]
  },
  {
   "cell_type": "markdown",
   "metadata": {},
   "source": [
    "## Random Forest"
   ]
  },
  {
   "cell_type": "code",
   "execution_count": 8,
   "metadata": {},
   "outputs": [
    {
     "name": "stdout",
     "output_type": "stream",
     "text": [
      "Model: Random Forrest Download \n",
      " RMSE: 4.2\n"
     ]
    }
   ],
   "source": [
    "regressor_rmse(RandomForestRegressor(random_state = seed) ,x_train_d,  \n",
    "               x_test_d, y_train_d, y_test_d, model_name = \"Random Forrest Download\")"
   ]
  },
  {
   "cell_type": "code",
   "execution_count": 9,
   "metadata": {},
   "outputs": [
    {
     "name": "stdout",
     "output_type": "stream",
     "text": [
      "Model: Random Forrest Upload \n",
      " RMSE: 3.78\n"
     ]
    }
   ],
   "source": [
    "regressor_rmse(RandomForestRegressor(random_state = seed) ,x_train_u, \n",
    "               x_test_u, y_train_u, y_test_u, model_name = \"Random Forrest Upload\")"
   ]
  },
  {
   "cell_type": "markdown",
   "metadata": {},
   "source": [
    "# Decision Tree"
   ]
  },
  {
   "cell_type": "code",
   "execution_count": 10,
   "metadata": {},
   "outputs": [
    {
     "name": "stdout",
     "output_type": "stream",
     "text": [
      "Model: Decision Tree Download \n",
      " RMSE: 5.57\n"
     ]
    }
   ],
   "source": [
    "regressor_rmse(DecisionTreeRegressor(random_state = seed) ,x_train_d, \n",
    "               x_test_d, y_train_d, y_test_d, model_name = \"Decision Tree Download\")"
   ]
  },
  {
   "cell_type": "code",
   "execution_count": 11,
   "metadata": {},
   "outputs": [
    {
     "name": "stdout",
     "output_type": "stream",
     "text": [
      "Model: Decision Tree Upload \n",
      " RMSE: 5.85\n"
     ]
    }
   ],
   "source": [
    "regressor_rmse(DecisionTreeRegressor(random_state = seed) ,x_train_u, \n",
    "               x_test_u, y_train_u, y_test_u, model_name = \"Decision Tree Upload\")"
   ]
  },
  {
   "cell_type": "markdown",
   "metadata": {},
   "source": [
    "\n",
    "# Lasso Reg "
   ]
  },
  {
   "cell_type": "code",
   "execution_count": 12,
   "metadata": {},
   "outputs": [
    {
     "name": "stdout",
     "output_type": "stream",
     "text": [
      "Model: Lasso Regression Download \n",
      " RMSE: 4.06\n"
     ]
    }
   ],
   "source": [
    "regressor_rmse(Lasso(random_state = seed) ,x_train_d, \n",
    "               x_test_d, y_train_d, y_test_d, model_name = \"Lasso Regression Download\")"
   ]
  },
  {
   "cell_type": "code",
   "execution_count": 13,
   "metadata": {},
   "outputs": [
    {
     "name": "stdout",
     "output_type": "stream",
     "text": [
      "Model: Decision Tree Upload \n",
      " RMSE: 5.85\n"
     ]
    }
   ],
   "source": [
    "regressor_rmse(DecisionTreeRegressor(random_state = seed) ,x_train_u, \n",
    "               x_test_u, y_train_u, y_test_u, model_name = \"Decision Tree Upload\")"
   ]
  },
  {
   "cell_type": "markdown",
   "metadata": {},
   "source": [
    "# SVR\n"
   ]
  },
  {
   "cell_type": "code",
   "execution_count": 14,
   "metadata": {},
   "outputs": [
    {
     "name": "stdout",
     "output_type": "stream",
     "text": [
      "Model: Support Vector Regression Download \n",
      " RMSE: 6.38\n"
     ]
    }
   ],
   "source": [
    "regressor_rmse(SVR() ,x_train_d,  #SVR has no random_state parameter\n",
    "               x_test_d, y_train_d, y_test_d, model_name = \"Support Vector Regression Download\")"
   ]
  },
  {
   "cell_type": "code",
   "execution_count": 15,
   "metadata": {},
   "outputs": [
    {
     "name": "stdout",
     "output_type": "stream",
     "text": [
      "Model: Support Vector Regression Upload \n",
      " RMSE: 7.71\n"
     ]
    }
   ],
   "source": [
    "regressor_rmse(SVR() ,x_train_u, #SVR has no random_state parameter\n",
    "               x_test_u, y_train_u, y_test_u, model_name = \"Support Vector Regression Upload\")"
   ]
  },
  {
   "cell_type": "markdown",
   "metadata": {},
   "source": [
    "## Linear Reg"
   ]
  },
  {
   "cell_type": "code",
   "execution_count": 16,
   "metadata": {},
   "outputs": [
    {
     "name": "stdout",
     "output_type": "stream",
     "text": [
      "Model: Linear Regression Download \n",
      " RMSE: 4.78\n"
     ]
    }
   ],
   "source": [
    "# Download Model\n",
    "regressor_rmse(LinearRegression() ,x_train_d, #SVR has no random_state parameter\n",
    "               x_test_d, y_train_d, y_test_d, model_name = \"Linear Regression Download\")"
   ]
  },
  {
   "cell_type": "code",
   "execution_count": 17,
   "metadata": {},
   "outputs": [
    {
     "name": "stdout",
     "output_type": "stream",
     "text": [
      "Model: Linear Regression Upload \n",
      " RMSE: 6.23\n"
     ]
    }
   ],
   "source": [
    "# Download Model\n",
    "regressor_rmse(LinearRegression() ,x_train_u, \n",
    "               x_test_u, y_train_u, y_test_u, model_name = \"Linear Regression Upload\")"
   ]
  },
  {
   "cell_type": "code",
   "execution_count": null,
   "metadata": {},
   "outputs": [],
   "source": []
  }
 ],
 "metadata": {
  "kernelspec": {
   "display_name": "Python 3",
   "language": "python",
   "name": "python3"
  },
  "language_info": {
   "codemirror_mode": {
    "name": "ipython",
    "version": 3
   },
   "file_extension": ".py",
   "mimetype": "text/x-python",
   "name": "python",
   "nbconvert_exporter": "python",
   "pygments_lexer": "ipython3",
   "version": "3.8.3"
  }
 },
 "nbformat": 4,
 "nbformat_minor": 4
}
