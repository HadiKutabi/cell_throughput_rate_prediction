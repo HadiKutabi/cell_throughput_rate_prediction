{
 "cells": [
  {
   "cell_type": "code",
   "execution_count": null,
   "metadata": {},
   "outputs": [],
   "source": [
    "import pandas as pd\n",
    "import numpy as np\n",
    "from  datetime import datetime\n",
    "import seaborn as sns\n",
    "import matplotlib.pyplot as plt\n",
    "from scipy.stats.stats import pearsonr\n",
    "from scipy.stats import spearmanr\n",
    "from scipy.stats import f_oneway\n",
    "\n",
    "from sklearn.ensemble import RandomForestRegressor\n",
    "\n",
    "pd.set_option('display.max_columns', 500)"
   ]
  },
  {
   "cell_type": "code",
   "execution_count": null,
   "metadata": {},
   "outputs": [],
   "source": [
    "data_down = pd.read_csv('data_down_full.csv')\n",
    "data_up = pd.read_csv('data_up_full.csv')\n",
    "\n",
    "    \n",
    "#gathering pysical cell IDs cols in lists for both download and upload\n",
    "pci_down = []\n",
    "for col in data_down.columns:\n",
    "    if col.isdigit():\n",
    "           pci_down.append(col)\n",
    "pci_up = []\n",
    "for col in data_up.columns:\n",
    "    if col.isdigit():\n",
    "           pci_up.append(col)"
   ]
  },
  {
   "cell_type": "markdown",
   "metadata": {},
   "source": [
    "# RFR Feature Importance\n"
   ]
  },
  {
   "cell_type": "code",
   "execution_count": null,
   "metadata": {},
   "outputs": [],
   "source": [
    "data_down = data_down.drop(['rawTimesamp','connected', 'date', 'timestamp', 'id'], axis = 1)\n",
    "data_up = data_up.drop(['rawTimesamp','connected', 'date', 'timestamp', 'id'], axis = 1)"
   ]
  },
  {
   "cell_type": "code",
   "execution_count": null,
   "metadata": {
    "scrolled": true
   },
   "outputs": [],
   "source": [
    "nom_attributes_up =['measurement', 'hour', 'week', 'dayofweek', 'month', 'day_time', \n",
    "                    'rush_hour', 'location', 'campus', 'highway', 'urban', 'suburban', \n",
    "                    'Barop', 'Brünninghausen', 'Eichlinghofen', 'Groß-Barop',\n",
    "                    'Hombruch', 'Innenstadt Nord', 'KGV Ruhrwaldstraße', 'Kirchhörde', \n",
    "                    'Klinikviertel', 'Kruckel', 'Löttringhausen', 'Lücklemberg', 'Mitte', \n",
    "                    'Persebeck', 'Renninghausen', 'Salingen', 'Syburg', 'Wellinghofen',\n",
    "                    'Wichlinghofen']\n",
    "\n",
    "nom_attributes_up = nom_attributes_up + pci_up\n",
    "\n",
    "\n",
    "nom_attributes_down =['measurement', 'hour', 'week', 'dayofweek', 'month', 'day_time', \n",
    "                      'rush_hour', 'location', 'campus', 'highway', 'urban', 'suburban',  \n",
    "                      'Barop', 'Brünninghausen', 'Eichlinghofen', 'Groß-Barop', \n",
    "                      'Hombruch', 'KGV Ruhrwaldstraße', 'Kirchhörde', 'Klinikviertel', \n",
    "                      'Kruckel', 'Löttringhausen', 'Lücklemberg', 'Mitte' , 'Persebeck', \n",
    "                      'Renninghausen', 'Salingen', 'Syburg', 'Wellinghofen',\n",
    "                      'Wichlinghofen']\n",
    "\n",
    "nom_attributes_down  =nom_attributes_down + pci_down\n",
    "\n",
    "\n",
    "cardinal_attributes_up = ['throughput', 'lat', 'lon', 'alt',\n",
    "                       'speed', 'alt', 'acc', 'rsrp', 'rsrq',\n",
    "                       'sinr', 'cqi', 'ss', 'ta', 'payload', 'rtt',\n",
    "                       'tavg', 'tmin', 'tmax', 'prcp', 'wdir', 'wspd',\n",
    "                       'pres', 'tsun','throughput_mean', 'throughput_var', \n",
    "                       'throughput_std','txPower', 'distance', 'speed', \n",
    "                       'ta', 'year']\n",
    "\n",
    "cardinal_attributes_down = ['throughput', 'lat', 'lon', 'alt',\n",
    "                       'speed', 'alt', 'acc', 'rsrp', 'rsrq',\n",
    "                       'sinr', 'cqi', 'ss', 'ta', 'payload', 'rtt',\n",
    "                       'tavg', 'tmin', 'tmax', 'prcp', 'wdir', 'wspd',\n",
    "                       'pres', 'tsun','throughput_mean', 'throughput_var', \n",
    "                       'throughput_std', 'distance', 'speed', 'ta', 'year']"
   ]
  },
  {
   "cell_type": "code",
   "execution_count": null,
   "metadata": {},
   "outputs": [],
   "source": [
    "reg = RandomForestRegressor()\n",
    "\n",
    "X_up = data_up.drop('throughput', axis=1)\n",
    "y_up = data_up[['throughput']].values.ravel()\n",
    "\n",
    "\n",
    "reg.fit(X_up, y_up)"
   ]
  },
  {
   "cell_type": "code",
   "execution_count": null,
   "metadata": {
    "scrolled": true
   },
   "outputs": [],
   "source": [
    "df_feature_imp = pd.DataFrame(reg.feature_importances_ , index=X_up.columns, columns=['feature importance']).sort_values(\n",
    "    'feature importance', ascending=False)\n",
    "pd.set_option('display.max_rows', df_feature_imp.shape[0]+1)\n",
    "pd.set_option('display.float_format', '{:.10f}'.format)\n",
    "print(len(df_feature_imp))\n",
    "df_feature_imp.head(1000)"
   ]
  },
  {
   "cell_type": "code",
   "execution_count": null,
   "metadata": {},
   "outputs": [],
   "source": [
    "reg = RandomForestRegressor()\n",
    "\n",
    "X_down= data_down.drop('throughput', axis=1)\n",
    "y_down = data_down[['throughput']].values.ravel()\n",
    "\n",
    "\n",
    "reg.fit(X_down, y_down)"
   ]
  },
  {
   "cell_type": "code",
   "execution_count": null,
   "metadata": {},
   "outputs": [],
   "source": [
    "reg = RandomForestRegressor()\n",
    "reg.fit(X_down, y_down)"
   ]
  },
  {
   "cell_type": "code",
   "execution_count": null,
   "metadata": {
    "scrolled": true
   },
   "outputs": [],
   "source": [
    "df_feature_imp = pd.DataFrame(reg.feature_importances_ , index=X_down.columns, columns=['feature importance']).sort_values(\n",
    "    'feature importance', ascending=False)\n",
    "pd.set_option('display.max_rows', df_feature_imp.shape[0]+1)\n",
    "pd.set_option('display.float_format', '{:.10f}'.format)\n",
    "print(len(df_feature_imp))\n",
    "df_feature_imp.head(1000)\n"
   ]
  },
  {
   "cell_type": "markdown",
   "metadata": {},
   "source": [
    "## Correlation Analysis"
   ]
  },
  {
   "cell_type": "code",
   "execution_count": null,
   "metadata": {},
   "outputs": [],
   "source": [
    "for cardinal_a in cardinal_attributes_down:\n",
    "    if cardinal_a == 'throughput': pass\n",
    "    else:\n",
    "        if pearsonr(data_down[cardinal_a], data_down['throughput'])[1] <=0.05:\n",
    "            print (cardinal_a)\n",
    "            print(pearsonr(data_down[cardinal_a], data_down['throughput']))\n",
    "            print(spearmanr(data_down[cardinal_a], data_down['throughput']))\n",
    "            plt.scatter(data_down[cardinal_a], data_down['throughput'])\n",
    "            plt.ylabel('throughput')\n",
    "            plt.xlabel(cardinal_a)\n",
    "            plt.show()"
   ]
  },
  {
   "cell_type": "code",
   "execution_count": null,
   "metadata": {},
   "outputs": [],
   "source": [
    "for cardinal_a in cardinal_attributes_up:\n",
    "    if cardinal_a == 'throughput': pass\n",
    "    else:\n",
    "        if pearsonr(data_up[cardinal_a], data_up['throughput'])[1] <=0.05:\n",
    "            print (cardinal_a)\n",
    "            print(pearsonr(data_up[cardinal_a], data_up['throughput']))\n",
    "            print(spearmanr(data_up[cardinal_a], data_up['throughput']))\n",
    "            plt.scatter(data_up[cardinal_a], data_up['throughput'])\n",
    "            plt.ylabel('throughput')\n",
    "            plt.xlabel(cardinal_a)\n",
    "            plt.show()"
   ]
  },
  {
   "cell_type": "code",
   "execution_count": null,
   "metadata": {},
   "outputs": [],
   "source": [
    "# One-Way Anova test for districts \n",
    "\n",
    "print(f_oneway(data_down['throughput'][data_down['Barop'] == 1],\n",
    "         data_down['throughput'][data_down['Brünninghausen'] == 1],\n",
    "         data_down['throughput'][data_down['Eichlinghofen'] == 1],\n",
    "         data_down['throughput'][data_down['Groß-Barop'] == 1],\n",
    "         data_down['throughput'][data_down['Hombruch'] == 1],\n",
    "         data_down['throughput'][data_down['KGV Ruhrwaldstraße'] == 1],\n",
    "         data_down['throughput'][data_down['Kirchhörde'] == 1],\n",
    "         data_down['throughput'][data_down['Klinikviertel'] == 1],\n",
    "         data_down['throughput'][data_down['Kruckel'] == 1],\n",
    "         data_down['throughput'][data_down['Löttringhausen'] == 1],\n",
    "         data_down['throughput'][data_down['Lücklemberg'] == 1],\n",
    "         data_down['throughput'][data_down['Mitte'] == 1],\n",
    "         data_down['throughput'][data_down['Persebeck'] == 1],\n",
    "         data_down['throughput'][data_down['Renninghausen'] == 1],\n",
    "         data_down['throughput'][data_down['Salingen'] == 1],\n",
    "         data_down['throughput'][data_down['Syburg'] == 1],\n",
    "         data_down['throughput'][data_down['Wellinghofen'] == 1],\n",
    "         data_down['throughput'][data_down['Wichlinghofen'] == 1]))\n",
    "\n",
    "\n",
    "print(f_oneway(data_up['throughput'][data_up['Barop'] == 1],\n",
    "         data_up['throughput'][data_up['Brünninghausen'] == 1],\n",
    "         data_up['throughput'][data_up['Eichlinghofen'] == 1],\n",
    "         data_up['throughput'][data_up['Groß-Barop'] == 1],\n",
    "         data_up['throughput'][data_up['Hombruch'] == 1],     \n",
    "         data_up['throughput'][data_up['KGV Ruhrwaldstraße'] == 1],\n",
    "         data_up['throughput'][data_up['Kirchhörde'] == 1],\n",
    "         data_up['throughput'][data_up['Klinikviertel'] == 1],\n",
    "         data_up['throughput'][data_up['Kruckel'] == 1],\n",
    "         data_up['throughput'][data_up['Löttringhausen'] == 1],\n",
    "         data_up['throughput'][data_up['Lücklemberg'] == 1],\n",
    "         data_up['throughput'][data_up['Mitte'] == 1],\n",
    "         data_up['throughput'][data_up['Persebeck'] == 1],\n",
    "         data_up['throughput'][data_up['Renninghausen'] == 1],\n",
    "         data_up['throughput'][data_up['Salingen'] == 1],\n",
    "         data_up['throughput'][data_up['Syburg'] == 1],\n",
    "         data_up['throughput'][data_up['Wellinghofen'] == 1]))"
   ]
  },
  {
   "cell_type": "code",
   "execution_count": null,
   "metadata": {},
   "outputs": [],
   "source": [
    "# One-Way Anova test for day_time\n",
    "\n",
    "print(f_oneway(data_down['throughput'][data_down['day_time'] == 1],\n",
    "         data_down['throughput'][data_down['day_time'] == 2],\n",
    "         data_down['throughput'][data_down['day_time'] == 3],\n",
    "         data_down['throughput'][data_down['day_time'] == 4]))\n",
    "\n",
    "print(f_oneway(data_up['throughput'][data_up['day_time'] == 1],\n",
    "         data_up['throughput'][data_up['day_time'] == 2],\n",
    "         data_up['throughput'][data_up['day_time'] == 3],\n",
    "         data_up['throughput'][data_up['day_time'] == 4]))"
   ]
  },
  {
   "cell_type": "code",
   "execution_count": null,
   "metadata": {},
   "outputs": [],
   "source": [
    "# One-Way Anova test for dayofweek\n",
    "\n",
    "print(f_oneway(data_down['throughput'][data_down['dayofweek'] == 0],\n",
    "         data_down['throughput'][data_down['dayofweek'] == 1],\n",
    "         data_down['throughput'][data_down['dayofweek'] == 2],\n",
    "         data_down['throughput'][data_down['dayofweek'] == 3],\n",
    "         data_down['throughput'][data_down['dayofweek'] == 4]))\n",
    "\n",
    "print(f_oneway(data_up['throughput'][data_up['dayofweek'] == 0],\n",
    "         data_up['throughput'][data_up['dayofweek'] == 1],\n",
    "         data_up['throughput'][data_up['dayofweek'] == 2],\n",
    "         data_up['throughput'][data_up['dayofweek'] == 3],\n",
    "         data_up['throughput'][data_up['dayofweek'] == 4]))"
   ]
  },
  {
   "cell_type": "code",
   "execution_count": null,
   "metadata": {},
   "outputs": [],
   "source": [
    "# One-Way Anova test for dayofmonth\n",
    "\n",
    "print(f_oneway(data_down['throughput'][data_down['dayofmonth'] == 10],\n",
    "         data_down['throughput'][data_down['dayofmonth'] == 11],\n",
    "         data_down['throughput'][data_down['dayofmonth'] == 12],\n",
    "         data_down['throughput'][data_down['dayofmonth'] == 13],\n",
    "         data_down['throughput'][data_down['dayofmonth'] == 14],\n",
    "         data_down['throughput'][data_down['dayofmonth'] == 17],\n",
    "         data_down['throughput'][data_down['dayofmonth'] == 18],\n",
    "         data_down['throughput'][data_down['dayofmonth'] == 19],\n",
    "         data_down['throughput'][data_down['dayofmonth'] == 20],\n",
    "         data_down['throughput'][data_down['dayofmonth'] == 15],\n",
    "         data_down['throughput'][data_down['dayofmonth'] == 16]))\n",
    "\n",
    "print(f_oneway(data_up['throughput'][data_up['dayofmonth'] == 10],\n",
    "         data_up['throughput'][data_up['dayofmonth'] == 11],\n",
    "         data_up['throughput'][data_up['dayofmonth'] == 12],\n",
    "         data_up['throughput'][data_up['dayofmonth'] == 13],\n",
    "         data_up['throughput'][data_up['dayofmonth'] == 14],\n",
    "         data_up['throughput'][data_up['dayofmonth'] == 17],\n",
    "         data_up['throughput'][data_up['dayofmonth'] == 18],\n",
    "         data_up['throughput'][data_up['dayofmonth'] == 19],\n",
    "         data_up['throughput'][data_up['dayofmonth'] == 20],\n",
    "         data_up['throughput'][data_up['dayofmonth'] == 15],\n",
    "         data_up['throughput'][data_up['dayofmonth'] == 16]))"
   ]
  },
  {
   "cell_type": "code",
   "execution_count": null,
   "metadata": {},
   "outputs": [],
   "source": [
    "# One-Way Anova test for month\n",
    "\n",
    "print(f_oneway(data_down['throughput'][data_down['month'] == 12],\n",
    "         data_down['throughput'][data_down['month'] == 1]))\n",
    "\n",
    "print(f_oneway(data_up['throughput'][data_up['month'] == 12],\n",
    "         data_up['throughput'][data_up['month'] == 1]))"
   ]
  },
  {
   "cell_type": "code",
   "execution_count": null,
   "metadata": {},
   "outputs": [],
   "source": [
    "# One-Way Anova test for week\n",
    "\n",
    "print(f_oneway(data_down['throughput'][data_down['week'] == 50],\n",
    "         data_down['throughput'][data_down['week'] == 51],\n",
    "         data_down['throughput'][data_down['week'] == 3]))\n",
    "\n",
    "print(f_oneway(data_up['throughput'][data_up['week'] == 50],\n",
    "         data_up['throughput'][data_up['week'] == 51],\n",
    "         data_up['throughput'][data_up['week'] == 3]))"
   ]
  },
  {
   "cell_type": "code",
   "execution_count": null,
   "metadata": {},
   "outputs": [],
   "source": [
    "# One-Way Anova test for pysical cell IDs\n",
    "\n",
    "print(f_oneway(data_down['throughput'][data_down['496'] == 1],\n",
    "         data_down['throughput'][data_down['495'] == 1],\n",
    "         data_down['throughput'][data_down['488'] == 1],\n",
    "         data_down['throughput'][data_down['487'] == 1],\n",
    "         data_down['throughput'][data_down['486'] == 1],\n",
    "         data_down['throughput'][data_down['470'] == 1],\n",
    "         data_down['throughput'][data_down['449'] == 1],\n",
    "         data_down['throughput'][data_down['443'] == 1],\n",
    "         data_down['throughput'][data_down['432'] == 1],\n",
    "         data_down['throughput'][data_down['416'] == 1],\n",
    "         data_down['throughput'][data_down['415'] == 1],\n",
    "         data_down['throughput'][data_down['414'] == 1],\n",
    "         data_down['throughput'][data_down['377'] == 1],\n",
    "         data_down['throughput'][data_down['376'] == 1],\n",
    "         data_down['throughput'][data_down['374'] == 1],\n",
    "         data_down['throughput'][data_down['372'] == 1],\n",
    "         data_down['throughput'][data_down['370'] == 1],\n",
    "         data_down['throughput'][data_down['358'] == 1],\n",
    "         data_down['throughput'][data_down['354'] == 1],\n",
    "         data_down['throughput'][data_down['335'] == 1],\n",
    "         data_down['throughput'][data_down['331'] == 1],\n",
    "         data_down['throughput'][data_down['326'] == 1],\n",
    "         data_down['throughput'][data_down['324'] == 1],\n",
    "         data_down['throughput'][data_down['281'] == 1],\n",
    "         data_down['throughput'][data_down['274'] == 1],\n",
    "         data_down['throughput'][data_down['272'] == 1],\n",
    "         data_down['throughput'][data_down['271'] == 1],\n",
    "         data_down['throughput'][data_down['270'] == 1],\n",
    "         data_down['throughput'][data_down['249'] == 1],\n",
    "         data_down['throughput'][data_down['224'] == 1],\n",
    "         data_down['throughput'][data_down['223'] == 1],\n",
    "         data_down['throughput'][data_down['222'] == 1],\n",
    "         data_down['throughput'][data_down['219'] == 1],\n",
    "         data_down['throughput'][data_down['215'] == 1],\n",
    "         data_down['throughput'][data_down['213'] == 1],\n",
    "         data_down['throughput'][data_down['202'] == 1],\n",
    "         data_down['throughput'][data_down['199'] == 1],\n",
    "         data_down['throughput'][data_down['195'] == 1],\n",
    "         data_down['throughput'][data_down['167'] == 1],\n",
    "         data_down['throughput'][data_down['166'] == 1],\n",
    "         data_down['throughput'][data_down['165'] == 1],\n",
    "         data_down['throughput'][data_down['155'] == 1],\n",
    "         data_down['throughput'][data_down['128'] == 1],\n",
    "         data_down['throughput'][data_down['96'] == 1],\n",
    "         data_down['throughput'][data_down['95'] == 1],\n",
    "         data_down['throughput'][data_down['93'] == 1],\n",
    "         data_down['throughput'][data_down['86'] == 1],\n",
    "         data_down['throughput'][data_down['85'] == 1],\n",
    "         data_down['throughput'][data_down['68'] == 1],\n",
    "         data_down['throughput'][data_down['67'] == 1],\n",
    "         data_down['throughput'][data_down['66'] == 1],\n",
    "         data_down['throughput'][data_down['49'] == 1],\n",
    "         data_down['throughput'][data_down['48'] == 1],\n",
    "         data_down['throughput'][data_down['35'] == 1],\n",
    "         data_down['throughput'][data_down['33'] == 1],\n",
    "         data_down['throughput'][data_down['26'] == 1],\n",
    "         data_down['throughput'][data_down['25'] == 1],\n",
    "         data_down['throughput'][data_down['24'] == 1]))"
   ]
  },
  {
   "cell_type": "code",
   "execution_count": null,
   "metadata": {},
   "outputs": [],
   "source": [
    "# One-Way Anova test for pysical cell IDs\n",
    "\n",
    "print(f_oneway(data_up['throughput'][data_up['496'] == 1],\n",
    "         data_up['throughput'][data_up['495'] == 1],\n",
    "         data_up['throughput'][data_up['488'] == 1],\n",
    "         data_up['throughput'][data_up['487'] == 1],\n",
    "         data_up['throughput'][data_up['486'] == 1],\n",
    "         data_up['throughput'][data_up['470'] == 1],\n",
    "         data_up['throughput'][data_up['449'] == 1],\n",
    "         data_up['throughput'][data_up['443'] == 1],\n",
    "         data_up['throughput'][data_up['441'] == 1],\n",
    "         data_up['throughput'][data_up['434'] == 1],\n",
    "         data_up['throughput'][data_up['433'] == 1],\n",
    "         data_up['throughput'][data_up['432'] == 1],\n",
    "         data_up['throughput'][data_up['416'] == 1],\n",
    "         data_up['throughput'][data_up['415'] == 1],\n",
    "         data_up['throughput'][data_up['414'] == 1],\n",
    "         data_up['throughput'][data_up['377'] == 1],\n",
    "         data_up['throughput'][data_up['376'] == 1],\n",
    "         data_up['throughput'][data_up['375'] == 1],\n",
    "         data_up['throughput'][data_up['374'] == 1],\n",
    "         data_up['throughput'][data_up['372'] == 1],\n",
    "         data_up['throughput'][data_up['370'] == 1],\n",
    "         data_up['throughput'][data_up['358'] == 1],\n",
    "         data_up['throughput'][data_up['354'] == 1],\n",
    "         data_up['throughput'][data_up['335'] == 1],\n",
    "         data_up['throughput'][data_up['331'] == 1],\n",
    "         data_up['throughput'][data_up['326'] == 1],\n",
    "         data_up['throughput'][data_up['271'] == 1],\n",
    "         data_up['throughput'][data_up['274'] == 1],\n",
    "         data_up['throughput'][data_up['272'] == 1],\n",
    "         data_up['throughput'][data_up['271'] == 1],\n",
    "         data_up['throughput'][data_up['270'] == 1],\n",
    "         data_up['throughput'][data_up['249'] == 1],\n",
    "         data_up['throughput'][data_up['224'] == 1],\n",
    "         data_up['throughput'][data_up['223'] == 1],\n",
    "         data_up['throughput'][data_up['222'] == 1],\n",
    "         data_up['throughput'][data_up['219'] == 1],\n",
    "         data_up['throughput'][data_up['215'] == 1],\n",
    "         data_up['throughput'][data_up['213'] == 1],\n",
    "         data_up['throughput'][data_up['202'] == 1],\n",
    "         data_up['throughput'][data_up['199'] == 1],\n",
    "         data_up['throughput'][data_up['195'] == 1],\n",
    "         data_up['throughput'][data_up['167'] == 1],\n",
    "         data_up['throughput'][data_up['166'] == 1],\n",
    "         data_up['throughput'][data_up['165'] == 1],\n",
    "         data_up['throughput'][data_up['155'] == 1],\n",
    "         data_up['throughput'][data_up['128'] == 1],\n",
    "         data_up['throughput'][data_up['96'] == 1],\n",
    "         data_up['throughput'][data_up['95'] == 1],\n",
    "         data_up['throughput'][data_up['94'] == 1],\n",
    "         data_up['throughput'][data_up['93'] == 1],\n",
    "         data_up['throughput'][data_up['86'] == 1],\n",
    "         data_up['throughput'][data_up['85'] == 1],\n",
    "         data_up['throughput'][data_up['68'] == 1],\n",
    "         data_up['throughput'][data_up['67'] == 1],\n",
    "         data_up['throughput'][data_up['66'] == 1],\n",
    "         data_up['throughput'][data_up['49'] == 1],\n",
    "         data_up['throughput'][data_up['48'] == 1],\n",
    "         data_up['throughput'][data_up['35'] == 1],\n",
    "         data_up['throughput'][data_up['33'] == 1],\n",
    "         data_up['throughput'][data_up['26'] == 1],\n",
    "         data_up['throughput'][data_up['25'] == 1],\n",
    "         data_up['throughput'][data_up['24'] == 1]))"
   ]
  },
  {
   "cell_type": "code",
   "execution_count": null,
   "metadata": {},
   "outputs": [],
   "source": [
    "# One-Way Anova test for rush_hour\n",
    "\n",
    "print(f_oneway(data_down['throughput'][data_down['rush_hour'] == 1],\n",
    "         data_down['throughput'][data_down['rush_hour'] == 0]))\n",
    "\n",
    "print(f_oneway(data_up['throughput'][data_up['rush_hour'] == 1],\n",
    "         data_up['throughput'][data_up['rush_hour'] == 0]))"
   ]
  },
  {
   "cell_type": "code",
   "execution_count": null,
   "metadata": {},
   "outputs": [],
   "source": [
    "# One-Way Anova test for hour\n",
    "\n",
    "print(f_oneway(data_down['throughput'][data_down['hour'] == 6],\n",
    "               data_down['throughput'][data_down['hour'] == 9],\n",
    "               data_down['throughput'][data_down['hour'] == 10],\n",
    "               data_down['throughput'][data_down['hour'] == 12],\n",
    "               data_down['throughput'][data_down['hour'] == 13],\n",
    "               data_down['throughput'][data_down['hour'] == 14],\n",
    "               data_down['throughput'][data_down['hour'] == 15]))\n",
    "\n",
    "print(f_oneway(data_up['throughput'][data_up['hour'] == 6],\n",
    "               data_up['throughput'][data_up['hour'] == 9],\n",
    "               data_up['throughput'][data_up['hour'] == 10],\n",
    "               data_up['throughput'][data_up['hour'] == 12],\n",
    "               data_up['throughput'][data_up['hour'] == 13],\n",
    "               data_up['throughput'][data_up['hour'] == 14],\n",
    "               data_up['throughput'][data_up['hour'] == 15]))"
   ]
  },
  {
   "cell_type": "code",
   "execution_count": null,
   "metadata": {},
   "outputs": [],
   "source": [
    "print(f_oneway(data_down['throughput'][data_down['suburban'] == 1],\n",
    "               data_down['throughput'][data_down['highway'] == 1],\n",
    "               data_down['throughput'][data_down['campus'] == 1],\n",
    "               data_down['throughput'][data_down['urban'] == 1]))\n",
    "\n",
    "print(f_oneway(data_up['throughput'][data_up['suburban'] == 1],\n",
    "               data_up['throughput'][data_up['highway'] == 1],\n",
    "               data_up['throughput'][data_up['campus'] == 1],\n",
    "               data_up['throughput'][data_up['urban'] == 1]))"
   ]
  },
  {
   "cell_type": "markdown",
   "metadata": {},
   "source": [
    "# Heatmaps"
   ]
  },
  {
   "cell_type": "code",
   "execution_count": null,
   "metadata": {},
   "outputs": [],
   "source": [
    "'''\n",
    "Upload Data\n",
    "Kardinal vs. Kardinal\n",
    "'''\n",
    "plt.figure(figsize=(25, 25))\n",
    "cor = data_up[cardinal_attributes_up].corr(method = 'pearson')\n",
    "sns.heatmap(cor, center=0,annot=True)\n",
    "plt.tight_layout()"
   ]
  },
  {
   "cell_type": "code",
   "execution_count": null,
   "metadata": {},
   "outputs": [],
   "source": [
    "'''\n",
    "Download Data\n",
    "Kardinal vs. Kardinal\n",
    "'''\n",
    "plt.figure(figsize=(25, 25))\n",
    "cor = data_down[cardinal_attributes_down].corr(method = 'pearson')\n",
    "sns.heatmap(cor, center=0,annot=True)\n",
    "plt.tight_layout()"
   ]
  },
  {
   "cell_type": "code",
   "execution_count": null,
   "metadata": {
    "scrolled": true
   },
   "outputs": [],
   "source": []
  }
 ],
 "metadata": {
  "kernelspec": {
   "display_name": "Python 3",
   "language": "python",
   "name": "python3"
  },
  "language_info": {
   "codemirror_mode": {
    "name": "ipython",
    "version": 3
   },
   "file_extension": ".py",
   "mimetype": "text/x-python",
   "name": "python",
   "nbconvert_exporter": "python",
   "pygments_lexer": "ipython3",
   "version": "3.7.9"
  }
 },
 "nbformat": 4,
 "nbformat_minor": 4
}
